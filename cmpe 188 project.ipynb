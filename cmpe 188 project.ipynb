{
 "cells": [
  {
   "cell_type": "code",
   "execution_count": 2,
   "metadata": {},
   "outputs": [],
   "source": [
    "import numpy as np\n",
    "import scipy as sp\n",
    "import pandas as pd\n",
    "\n",
    "from sklearn.model_selection import train_test_split\n",
    "from sklearn import linear_model\n",
    "import matplotlib.pyplot as plt\n",
    "\n",
    "#d = pd.read_csv('/Users/kevinlazatin/Desktop/all (1)/train_V2.csv')\n",
    "test1 = pd.read_csv('/Users/kevinlazatin/Desktop/all (1)/test_V2.csv')"
   ]
  },
  {
   "cell_type": "code",
   "execution_count": 3,
   "metadata": {},
   "outputs": [],
   "source": [
    "#sample the first 25000 rows to train data since file contains too much data for computer to run\n",
    "df = pd.read_csv('/Users/kevinlazatin/Desktop/all (1)/train_V2.csv',sep = \",\", low_memory = False, nrows = 25000)"
   ]
  },
  {
   "cell_type": "code",
   "execution_count": 4,
   "metadata": {},
   "outputs": [],
   "source": [
    "#df.count()"
   ]
  },
  {
   "cell_type": "code",
   "execution_count": 5,
   "metadata": {},
   "outputs": [],
   "source": [
    "#drop rows with missing values if any\n",
    "df1 = df.dropna()"
   ]
  },
  {
   "cell_type": "code",
   "execution_count": 6,
   "metadata": {},
   "outputs": [],
   "source": [
    "#df1"
   ]
  },
  {
   "cell_type": "code",
   "execution_count": 7,
   "metadata": {},
   "outputs": [],
   "source": [
    "#d.count()"
   ]
  },
  {
   "cell_type": "code",
   "execution_count": 8,
   "metadata": {},
   "outputs": [],
   "source": [
    "#d1.count()"
   ]
  },
  {
   "cell_type": "code",
   "execution_count": 9,
   "metadata": {},
   "outputs": [],
   "source": [
    "#d1.dtypes"
   ]
  },
  {
   "cell_type": "code",
   "execution_count": 10,
   "metadata": {},
   "outputs": [],
   "source": [
    "#d1"
   ]
  },
  {
   "cell_type": "code",
   "execution_count": 11,
   "metadata": {},
   "outputs": [],
   "source": [
    "#combine distances together didn't work well with mae\n",
    "#df[\"distance\"] = df[\"rideDistance\"]+df[\"walkDistance\"]+df[\"swimDistance\"]\n",
    "#df.drop(['rideDistance','walkDistance','swimDistance'],inplace=True,axis=1)\n",
    "#print(df.shape)\n",
    "#df.head()"
   ]
  },
  {
   "cell_type": "code",
   "execution_count": 12,
   "metadata": {},
   "outputs": [],
   "source": [
    "#combining distances didn't work well with mae\n",
    "#test1[\"distance\"] = test1[\"rideDistance\"]+test1[\"walkDistance\"]+test1[\"swimDistance\"]\n",
    "#test1.drop(['rideDistance','walkDistance','swimDistance'],inplace=True,axis=1)\n",
    "#print(test1.shape)\n",
    "#test1.head()"
   ]
  },
  {
   "cell_type": "code",
   "execution_count": 13,
   "metadata": {},
   "outputs": [],
   "source": [
    "#df[\"winPlacePerc\"] = df[\"winPlacePerc\"].astype('int')\n",
    "\n",
    "# for gradient boost\n",
    "#df1[\"walkDistance\"]=df1['walkDistance'].astype('int')\n",
    "#df1[\"rideDistance\"]=df1['rideDistance'].astype('int')\n",
    "#df1[\"longestKill\"]=df1['longestKill'].astype('int')\n",
    "#df1[\"damageDealt\"]=df1['damageDealt'].astype('int')\n",
    "#df1[\"walkDistance\"]=df1['walkDistance'].astype('int')\n",
    "#df1[\"winPlacePerc\"]=df1['winPlacePerc'].astype('int')\n",
    "\n",
    "#took out walk + ride distance for distance #made mae worse for linregr\n",
    "#adding swimDistance still got same mae score\n",
    "#added other low positively correlated categories such a\n",
    "# vehicleDestroys, numGroups, roadKills, teamKills,maxPlace,rankPoints,killPoints,winPoints\n",
    "pred_cols = ['kills','weaponsAcquired','walkDistance','swimDistance','rideDistance','revives','longestKill','killStreaks',\n",
    "            'headshotKills','heals','damageDealt','boosts','assists','DBNOs','vehicleDestroys','numGroups','roadKills',\n",
    "            'teamKills','maxPlace','rankPoints','killPoints','winPoints']\n",
    "y = df1.winPlacePerc\n",
    "\n",
    "X_train, X_test, y_train, y_test = train_test_split(\n",
    "    df1[pred_cols], y, test_size = .3, random_state=0)\n",
    "\n"
   ]
  },
  {
   "cell_type": "code",
   "execution_count": null,
   "metadata": {},
   "outputs": [],
   "source": []
  },
  {
   "cell_type": "code",
   "execution_count": 14,
   "metadata": {},
   "outputs": [],
   "source": [
    "#from sklearn.ensemble import GradientBoostingClassifier\n",
    "#min_samples_split and max_depth didn't help\n",
    "\n",
    "#gb = GradientBoostingClassifier(n_estimators = 10000, random_state = 0, learning_rate = .01)\n",
    "#gb.fit(X_train, y_train)\n",
    "\n",
    "#print(\"Accuracy on training set: {:.3f}\".format(gb.score(X_train, y_train)))\n",
    "#print(\"Accuracy on test set: {:.3f}\".format(gb.score(X_test, y_test)))"
   ]
  },
  {
   "cell_type": "code",
   "execution_count": 15,
   "metadata": {},
   "outputs": [
    {
     "name": "stdout",
     "output_type": "stream",
     "text": [
      "Accuracy on training set: 0.731\n",
      "Accuracy on test set: 0.731\n"
     ]
    }
   ],
   "source": [
    "regr = linear_model.LinearRegression()\n",
    "regr.fit(X_train,y_train)\n",
    "print(\"Accuracy on training set: {:.3f}\".format(regr.score(X_train, y_train)))\n",
    "print(\"Accuracy on test set: {:.3f}\".format(regr.score(X_test, y_test)))"
   ]
  },
  {
   "cell_type": "code",
   "execution_count": 16,
   "metadata": {},
   "outputs": [],
   "source": [
    "#took out walk + ride distance #made mae worse for linear regression\n",
    "#adding swim distance, vehicleDestroys, numGroups, roadKills, teamKills,maxPlace,rankPoints,killPoints,winPoints\n",
    "pred = ['kills','weaponsAcquired','walkDistance','rideDistance','swimDistance','revives','longestKill','killStreaks',\n",
    "            'headshotKills','heals','damageDealt','boosts','assists','DBNOs','vehicleDestroys','numGroups','roadKills',\n",
    "            'teamKills','maxPlace','rankPoints','killPoints','winPoints'] \n",
    "X_test1 = test1[pred]"
   ]
  },
  {
   "cell_type": "code",
   "execution_count": null,
   "metadata": {},
   "outputs": [],
   "source": []
  },
  {
   "cell_type": "code",
   "execution_count": 17,
   "metadata": {},
   "outputs": [],
   "source": [
    "from sklearn.metrics import mean_absolute_error as mae\n",
    "#test_pred = gb.predict(X_test)\n",
    "#Error = mae(test_pred, y_test)\n",
    "#print(\"Mean Absolute Error of \", Error )"
   ]
  },
  {
   "cell_type": "code",
   "execution_count": null,
   "metadata": {},
   "outputs": [],
   "source": []
  },
  {
   "cell_type": "code",
   "execution_count": 18,
   "metadata": {},
   "outputs": [
    {
     "name": "stdout",
     "output_type": "stream",
     "text": [
      "Mean Absolute Error of  0.1238450145594598\n"
     ]
    }
   ],
   "source": [
    "test_pred = regr.predict(X_test)\n",
    "Error = mae(test_pred, y_test)\n",
    "print(\"Mean Absolute Error of \", Error )"
   ]
  },
  {
   "cell_type": "code",
   "execution_count": 18,
   "metadata": {},
   "outputs": [],
   "source": [
    "test_Y = regr.predict(X_test1)\n",
    "Id = test1.Id\n",
    "test = pd.DataFrame( {'Id': Id ,'winPlacePerc': test_Y } )\n",
    "test.shape\n",
    "test.head()\n",
    "test.to_csv( 'pubg_pred.csv' , index = False)"
   ]
  },
  {
   "cell_type": "code",
   "execution_count": 19,
   "metadata": {},
   "outputs": [],
   "source": [
    "df2 = pd.read_csv('/Users/kevinlazatin/Desktop/all (1)/train_V2.csv',sep = \",\", low_memory = False, nrows = 300)\n",
    "y1 = df2.winPlacePerc"
   ]
  },
  {
   "cell_type": "code",
   "execution_count": 20,
   "metadata": {},
   "outputs": [],
   "source": [
    "X_train2, X_test2, y_train2, y_test2 = train_test_split(\n",
    "    df2[pred_cols], y1, test_size = .3, random_state=0)"
   ]
  },
  {
   "cell_type": "code",
   "execution_count": 21,
   "metadata": {},
   "outputs": [
    {
     "data": {
      "image/png": "[encoded data removed]",
      "text/plain": [
       "<Figure size 432x288 with 1 Axes>"
      ]
     },
     "metadata": {},
     "output_type": "display_data"
    }
   ],
   "source": [
    "#takes too long with a lot of values\n",
    "#shows how lin regr predicts with very small sample\n",
    "t = df2.Id[:-210]\n",
    "plt.scatter(t, y_test2,  color='black')\n",
    "plt.plot(t, regr.predict(X_test2), color='blue',\n",
    "         linewidth=3)\n",
    "\n",
    "plt.xticks(())\n",
    "plt.yticks(())\n",
    "\n",
    "plt.show()"
   ]
  },
  {
   "cell_type": "code",
   "execution_count": 59,
   "metadata": {},
   "outputs": [
    {
     "data": {
      "image/png": "[encoded data removed]",
      "text/plain": [
       "<Figure size 432x288 with 1 Axes>"
      ]
     },
     "metadata": {},
     "output_type": "display_data"
    }
   ],
   "source": [
    "#shows how gb classifier predicts with very small sample\n",
    "#t = df2.Id[:-210]\n",
    "#plt.scatter(t, y_test2,  color='black')\n",
    "#plt.plot(t, gb.predict(X_test2), color='blue',\n",
    "         linewidth=3)\n",
    "\n",
    "#plt.xticks(())\n",
    "#plt.yticks(())\n",
    "\n",
    "#plt.show()"
   ]
  },
  {
   "cell_type": "code",
   "execution_count": null,
   "metadata": {},
   "outputs": [],
   "source": []
  }
 ],
 "metadata": {
  "kernelspec": {
   "display_name": "Python 3",
   "language": "python",
   "name": "python3"
  },
  "language_info": {
   "codemirror_mode": {
    "name": "ipython",
    "version": 3
   },
   "file_extension": ".py",
   "mimetype": "text/x-python",
   "name": "python",
   "nbconvert_exporter": "python",
   "pygments_lexer": "ipython3",
   "version": "3.6.5"
  }
 },
 "nbformat": 4,
 "nbformat_minor": 2
}
