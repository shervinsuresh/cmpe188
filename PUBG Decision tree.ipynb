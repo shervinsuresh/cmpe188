{
 "cells": [
  {
   "cell_type": "code",
   "execution_count": 52,
   "metadata": {},
   "outputs": [],
   "source": [
    "import pandas as pd\n",
    "import matplotlib.pyplot as plt\n",
    "import numpy as np\n",
    "import scipy as sp\n",
    "\n",
    "from sklearn.tree import DecisionTreeClassifier\n",
    "from sklearn.neighbors import KNeighborsClassifier\n",
    "from sklearn.preprocessing import StandardScaler\n",
    "from sklearn.model_selection import train_test_split\n",
    "\n",
    "train2 = pd.read_csv('PUBG_train.csv')\n",
    "test1 = pd.read_csv('PUBG_test.csv')\n",
    "train=pd.read_csv('PUBG_train.csv',sep=\",\",low_memory=False,nrows=25000)"
   ]
  },
  {
   "cell_type": "code",
   "execution_count": 53,
   "metadata": {},
   "outputs": [],
   "source": [
    "set=['weaponsAcquired','walkDistance','rideDistance','revives','longestKill','kills','killStreaks','headshotKills','heals','damageDealt','boosts','assists','DBNOs']"
   ]
  },
  {
   "cell_type": "code",
   "execution_count": 54,
   "metadata": {},
   "outputs": [],
   "source": [
    "train.dtypes\n",
    "train1=train.dropna()"
   ]
  },
  {
   "cell_type": "code",
   "execution_count": 55,
   "metadata": {},
   "outputs": [
    {
     "data": {
      "text/plain": [
       "Id                  object\n",
       "groupId             object\n",
       "matchId             object\n",
       "assists              int64\n",
       "boosts               int64\n",
       "damageDealt          int32\n",
       "DBNOs                int64\n",
       "headshotKills        int64\n",
       "heals                int64\n",
       "killPlace            int64\n",
       "killPoints           int64\n",
       "kills                int64\n",
       "killStreaks          int64\n",
       "longestKill          int32\n",
       "matchDuration        int64\n",
       "matchType           object\n",
       "maxPlace             int64\n",
       "numGroups            int64\n",
       "rankPoints           int64\n",
       "revives              int64\n",
       "rideDistance         int32\n",
       "roadKills            int64\n",
       "swimDistance       float64\n",
       "teamKills            int64\n",
       "vehicleDestroys      int64\n",
       "walkDistance         int32\n",
       "weaponsAcquired      int64\n",
       "winPoints            int64\n",
       "winPlacePerc         int32\n",
       "dtype: object"
      ]
     },
     "execution_count": 55,
     "metadata": {},
     "output_type": "execute_result"
    }
   ],
   "source": [
    "train1[\"walkDistance\"]=train1['walkDistance'].astype('int')\n",
    "train1[\"rideDistance\"]=train1['rideDistance'].astype('int')\n",
    "train1[\"longestKill\"]=train1['longestKill'].astype('int')\n",
    "train1[\"damageDealt\"]=train1['damageDealt'].astype('int')\n",
    "train1[\"walkDistance\"]=train1['walkDistance'].astype('int')\n",
    "train1[\"winPlacePerc\"]=train1['winPlacePerc'].astype('int')\n",
    "\n",
    "train1.dtypes"
   ]
  },
  {
   "cell_type": "code",
   "execution_count": 56,
   "metadata": {},
   "outputs": [
    {
     "data": {
      "text/plain": [
       "Id                 25000\n",
       "groupId            25000\n",
       "matchId            25000\n",
       "assists            25000\n",
       "boosts             25000\n",
       "damageDealt        25000\n",
       "DBNOs              25000\n",
       "headshotKills      25000\n",
       "heals              25000\n",
       "killPlace          25000\n",
       "killPoints         25000\n",
       "kills              25000\n",
       "killStreaks        25000\n",
       "longestKill        25000\n",
       "matchDuration      25000\n",
       "matchType          25000\n",
       "maxPlace           25000\n",
       "numGroups          25000\n",
       "rankPoints         25000\n",
       "revives            25000\n",
       "rideDistance       25000\n",
       "roadKills          25000\n",
       "swimDistance       25000\n",
       "teamKills          25000\n",
       "vehicleDestroys    25000\n",
       "walkDistance       25000\n",
       "weaponsAcquired    25000\n",
       "winPoints          25000\n",
       "winPlacePerc       25000\n",
       "dtype: int64"
      ]
     },
     "execution_count": 56,
     "metadata": {},
     "output_type": "execute_result"
    }
   ],
   "source": [
    "train1.count()"
   ]
  },
  {
   "cell_type": "code",
   "execution_count": 57,
   "metadata": {},
   "outputs": [
    {
     "data": {
      "text/plain": [
       "0        0\n",
       "1        0\n",
       "2        0\n",
       "3        0\n",
       "4        0\n",
       "5        0\n",
       "6        0\n",
       "7        0\n",
       "8        0\n",
       "9        0\n",
       "10       0\n",
       "11       0\n",
       "12       0\n",
       "13       0\n",
       "14       0\n",
       "15       0\n",
       "16       0\n",
       "17       0\n",
       "18       0\n",
       "19       0\n",
       "20       0\n",
       "21       0\n",
       "22       0\n",
       "23       0\n",
       "24       0\n",
       "25       0\n",
       "26       0\n",
       "27       0\n",
       "28       0\n",
       "29       0\n",
       "        ..\n",
       "24970    0\n",
       "24971    0\n",
       "24972    0\n",
       "24973    0\n",
       "24974    0\n",
       "24975    0\n",
       "24976    0\n",
       "24977    0\n",
       "24978    0\n",
       "24979    0\n",
       "24980    0\n",
       "24981    0\n",
       "24982    0\n",
       "24983    0\n",
       "24984    0\n",
       "24985    0\n",
       "24986    0\n",
       "24987    0\n",
       "24988    0\n",
       "24989    0\n",
       "24990    0\n",
       "24991    0\n",
       "24992    0\n",
       "24993    0\n",
       "24994    0\n",
       "24995    0\n",
       "24996    0\n",
       "24997    0\n",
       "24998    0\n",
       "24999    0\n",
       "Name: winPlacePerc, Length: 25000, dtype: int32"
      ]
     },
     "execution_count": 57,
     "metadata": {},
     "output_type": "execute_result"
    }
   ],
   "source": [
    "train1.winPlacePerc"
   ]
  },
  {
   "cell_type": "code",
   "execution_count": 58,
   "metadata": {},
   "outputs": [],
   "source": [
    "set2=['winPlacePerc']"
   ]
  },
  {
   "cell_type": "code",
   "execution_count": 59,
   "metadata": {},
   "outputs": [
    {
     "data": {
      "text/plain": [
       "DecisionTreeClassifier(class_weight=None, criterion='gini', max_depth=None,\n",
       "            max_features=None, max_leaf_nodes=None,\n",
       "            min_impurity_decrease=0.0009, min_impurity_split=None,\n",
       "            min_samples_leaf=1, min_samples_split=2,\n",
       "            min_weight_fraction_leaf=0.0, presort=False, random_state=None,\n",
       "            splitter='best')"
      ]
     },
     "execution_count": 59,
     "metadata": {},
     "output_type": "execute_result"
    }
   ],
   "source": [
    "X_train, X_test, y_train, y_test = train_test_split(\n",
    "    train1[set], train1[set2],test_size=0.01,random_state=42)\n",
    "\n",
    "#build the tree using the training data\n",
    "tree = DecisionTreeClassifier(criterion='gini',max_depth=None,splitter='best', min_impurity_decrease=0.0009)\n",
    "tree.fit(X_train, y_train)"
   ]
  },
  {
   "cell_type": "code",
   "execution_count": 60,
   "metadata": {},
   "outputs": [
    {
     "name": "stdout",
     "output_type": "stream",
     "text": [
      "Accuracy on training set: 0.972\n",
      "Accuracy on test set: 0.980\n"
     ]
    }
   ],
   "source": [
    "#Print accuracy of the model\n",
    "print(\"Accuracy on training set: {:.3f}\".format(tree.score(X_train, y_train)))\n",
    "print(\"Accuracy on test set: {:.3f}\".format(tree.score(X_test, y_test)))"
   ]
  },
  {
   "cell_type": "code",
   "execution_count": 61,
   "metadata": {},
   "outputs": [],
   "source": [
    "Xtest1 = test1[set]"
   ]
  },
  {
   "cell_type": "code",
   "execution_count": 63,
   "metadata": {},
   "outputs": [],
   "source": [
    "test_Y = tree.predict(Xtest1)\n",
    "Id = test1.Id\n",
    "test = pd.DataFrame({'Id': Id, 'Win_place_perc':test_Y})\n",
    "test.shape\n",
    "test.head()\n",
    "test.to_csv( 'PUBGout.csv' , index = False )"
   ]
  },
  {
   "cell_type": "code",
   "execution_count": 45,
   "metadata": {},
   "outputs": [
    {
     "data": {
      "text/plain": [
       "KNeighborsClassifier(algorithm='auto', leaf_size=30, metric='minkowski',\n",
       "           metric_params=None, n_jobs=1, n_neighbors=5, p=2,\n",
       "           weights='uniform')"
      ]
     },
     "execution_count": 45,
     "metadata": {},
     "output_type": "execute_result"
    }
   ],
   "source": [
    "#classifier = KNeighborsClassifier(n_neighbors=5)  \n",
    "#classifier.fit(X_train, y_train.values.ravel())"
   ]
  },
  {
   "cell_type": "code",
   "execution_count": 50,
   "metadata": {},
   "outputs": [
    {
     "ename": "SyntaxError",
     "evalue": "invalid syntax (<ipython-input-50-8e77604cdecf>, line 4)",
     "output_type": "error",
     "traceback": [
      "\u001b[1;36m  File \u001b[1;32m\"<ipython-input-50-8e77604cdecf>\"\u001b[1;36m, line \u001b[1;32m4\u001b[0m\n\u001b[1;33m    test.shape\u001b[0m\n\u001b[1;37m       ^\u001b[0m\n\u001b[1;31mSyntaxError\u001b[0m\u001b[1;31m:\u001b[0m invalid syntax\n"
     ]
    }
   ],
   "source": [
    "#y_pred=classifier.predict(X_test1)\n",
    "#Id= test1.Id\n",
    "#test = pd.DataFrame({'Id': Id, 'Win_Place_Perc':y_test\n",
    "#test.shape\n",
    "#test.head()\n",
    "#test.to_csv( 'PUBGout.csv' , index = False )"
   ]
  },
  {
   "cell_type": "code",
   "execution_count": 47,
   "metadata": {},
   "outputs": [
    {
     "name": "stdout",
     "output_type": "stream",
     "text": [
      "[[245   0]\n",
      " [  4   1]]\n",
      "             precision    recall  f1-score   support\n",
      "\n",
      "          0       0.98      1.00      0.99       245\n",
      "          1       1.00      0.20      0.33         5\n",
      "\n",
      "avg / total       0.98      0.98      0.98       250\n",
      "\n"
     ]
    }
   ],
   "source": [
    "#from sklearn.metrics import classification_report, confusion_matrix  \n",
    "#print(confusion_matrix(y_test, y_pred))  \n",
    "#print(classification_report(y_test, y_pred))"
   ]
  },
  {
   "cell_type": "code",
   "execution_count": null,
   "metadata": {},
   "outputs": [],
   "source": []
  }
 ],
 "metadata": {
  "kernelspec": {
   "display_name": "Python 3",
   "language": "python",
   "name": "python3"
  },
  "language_info": {
   "codemirror_mode": {
    "name": "ipython",
    "version": 3
   },
   "file_extension": ".py",
   "mimetype": "text/x-python",
   "name": "python",
   "nbconvert_exporter": "python",
   "pygments_lexer": "ipython3",
   "version": "3.7.0"
  }
 },
 "nbformat": 4,
 "nbformat_minor": 2
}
